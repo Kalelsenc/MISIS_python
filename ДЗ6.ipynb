{
 "cells": [
  {
   "cell_type": "markdown",
   "id": "05a7bdff-9126-4af1-917b-52d39cb2b5cd",
   "metadata": {
    "tags": []
   },
   "source": [
    "ДЗ"
   ]
  },
  {
   "cell_type": "markdown",
   "id": "cc3f907b-b4d8-4d87-b6fc-1347521348c7",
   "metadata": {},
   "source": [
    "1. Написать бота который будет проверять доступность сайта"
   ]
  },
  {
   "cell_type": "code",
   "execution_count": null,
   "id": "e0e87930-9332-45fd-a621-486cb9b1074e",
   "metadata": {},
   "outputs": [],
   "source": []
  },
  {
   "cell_type": "markdown",
   "id": "5cb4feab-b8a3-42d4-a66d-3e2bf4923014",
   "metadata": {},
   "source": [
    "2. Написать бота который будет анализировать текст - (Статистика, количество уникальных слов, самые популярные слова, кроме союзов и предлогов, количество предложений)"
   ]
  },
  {
   "cell_type": "code",
   "execution_count": null,
   "id": "c32dd3d5-39b5-4482-90cb-d4101c5fb446",
   "metadata": {},
   "outputs": [],
   "source": []
  },
  {
   "cell_type": "markdown",
   "id": "af6d6670-b16b-4fc4-8b87-b3e45c59d104",
   "metadata": {},
   "source": [
    "3. Бот калькулятор\n",
    "*с кнопками"
   ]
  },
  {
   "cell_type": "code",
   "execution_count": null,
   "id": "ebb6a644-f6a2-4256-8b90-df9e18bb9841",
   "metadata": {},
   "outputs": [],
   "source": []
  }
 ],
 "metadata": {
  "kernelspec": {
   "display_name": "Python 3 (ipykernel)",
   "language": "python",
   "name": "python3"
  },
  "language_info": {
   "codemirror_mode": {
    "name": "ipython",
    "version": 3
   },
   "file_extension": ".py",
   "mimetype": "text/x-python",
   "name": "python",
   "nbconvert_exporter": "python",
   "pygments_lexer": "ipython3",
   "version": "3.9.7"
  }
 },
 "nbformat": 4,
 "nbformat_minor": 5
}
