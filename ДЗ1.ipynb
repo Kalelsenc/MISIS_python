{
 "cells": [
  {
   "cell_type": "markdown",
   "id": "ee947cc1-d57f-42b4-9700-aa529b60b61e",
   "metadata": {
    "tags": []
   },
   "source": [
    "## ДЗ"
   ]
  },
  {
   "cell_type": "markdown",
   "id": "16b5d6f1-c02e-424e-9710-65ac4aace86e",
   "metadata": {
    "tags": []
   },
   "source": [
    "1)Сделайте так, чтобы число секунд отображалось в виде дни:часы:минуты:секунды."
   ]
  },
  {
   "cell_type": "code",
   "execution_count": 15,
   "id": "8b5d52e8-b6c2-4354-a891-f925ea8b5949",
   "metadata": {},
   "outputs": [
    {
     "name": "stdout",
     "output_type": "stream",
     "text": [
      "Введите количество секунд:\n"
     ]
    },
    {
     "name": "stdin",
     "output_type": "stream",
     "text": [
      " 28000\n"
     ]
    },
    {
     "name": "stdout",
     "output_type": "stream",
     "text": [
      "В 28000 секундах: 0 дней 7 часов 46 минут 40 секунд\n"
     ]
    }
   ],
   "source": [
    "print('Введите количество секунд:')\n",
    "seconds=int(input())\n",
    "\n",
    "days=0\n",
    "hours=0\n",
    "minutes=0\n",
    "\n",
    "if (seconds//86400!=0):\n",
    "    days=seconds//86400\n",
    "    seconds=seconds-days*86400\n",
    "    \n",
    "if (seconds//3600!=0):\n",
    "    hours=seconds//3600\n",
    "    seconds=seconds-hours*3600\n",
    "    \n",
    "if (seconds//60!=0):\n",
    "    minutes=seconds//60\n",
    "    seconds=seconds-minutes*60\n",
    "    \n",
    "print('В '+str(days*86400+hours*3600+minutes*60+seconds)+' секундах: '+str(days)+' дней '+str(hours)+' часов '+str(minutes)+' минут '+str(seconds)+' секунд')"
   ]
  },
  {
   "cell_type": "markdown",
   "id": "aa7660bb-8476-42da-b43a-95c1ef255a1a",
   "metadata": {},
   "source": [
    "2) Напишите калькулятор который запрашивает на входе две переменные и знак, и в соответствии с знаком ( + - * / ) выводит результат"
   ]
  },
  {
   "cell_type": "code",
   "execution_count": 23,
   "id": "86e87081-1ca7-4498-bc2a-0f48037851af",
   "metadata": {},
   "outputs": [
    {
     "name": "stdout",
     "output_type": "stream",
     "text": [
      "Введите первое число:\n"
     ]
    },
    {
     "name": "stdin",
     "output_type": "stream",
     "text": [
      " 11\n"
     ]
    },
    {
     "name": "stdout",
     "output_type": "stream",
     "text": [
      "Введите второе число:\n"
     ]
    },
    {
     "name": "stdin",
     "output_type": "stream",
     "text": [
      " 11\n"
     ]
    },
    {
     "name": "stdout",
     "output_type": "stream",
     "text": [
      "Введите знак\n"
     ]
    },
    {
     "name": "stdin",
     "output_type": "stream",
     "text": [
      " фыв\n"
     ]
    },
    {
     "name": "stdout",
     "output_type": "stream",
     "text": [
      "Результат:\n",
      "Вы ввели что-то не то\n"
     ]
    }
   ],
   "source": [
    "print('Введите первое число:')\n",
    "num1=float(input())\n",
    "print('Введите второе число:')\n",
    "num2=float(input())\n",
    "print('Введите знак')\n",
    "sign=input()\n",
    "print('Результат:')\n",
    "\n",
    "if (sign=='+'):\n",
    "    print(num1+num2)\n",
    "elif (sign=='-'):\n",
    "    print(num1-num2)\n",
    "elif (sign=='*'):\n",
    "    print(num1*num2)\n",
    "elif (sign=='/'):\n",
    "    print(num1/num2)\n",
    "else:\n",
    "    print('Вы ввели что-то не то')"
   ]
  }
 ],
 "metadata": {
  "kernelspec": {
   "display_name": "Python 3 (ipykernel)",
   "language": "python",
   "name": "python3"
  },
  "language_info": {
   "codemirror_mode": {
    "name": "ipython",
    "version": 3
   },
   "file_extension": ".py",
   "mimetype": "text/x-python",
   "name": "python",
   "nbconvert_exporter": "python",
   "pygments_lexer": "ipython3",
   "version": "3.9.7"
  }
 },
 "nbformat": 4,
 "nbformat_minor": 5
}
