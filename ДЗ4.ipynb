{
 "cells": [
  {
   "cell_type": "markdown",
   "id": "02d3cc2c-9c6b-4dbf-9d14-3ae5988941c9",
   "metadata": {},
   "source": [
    "## ДЗ"
   ]
  },
  {
   "cell_type": "markdown",
   "id": "ae047b8a-9dbc-40d1-aa62-896ebf208466",
   "metadata": {},
   "source": [
    "1) Средний бал и список отстающих учеников"
   ]
  },
  {
   "cell_type": "markdown",
   "id": "2401669f-d8f8-4707-b7f5-b911a3dc2c34",
   "metadata": {},
   "source": [
    "Иванов О. 4\n",
    "Петров И. 3\n",
    "Дмитриев Н. 2\n",
    "Смирнова О. 4\n",
    "Керченских В. 5\n",
    "Котов Д. 2\n",
    "Бирюкова Н. 1\n",
    "Данилов П. 3\n",
    "Аранских В. 5\n",
    "Лемонов Ю. 2\n",
    "Олегова К. 4"
   ]
  },
  {
   "cell_type": "code",
   "execution_count": 2,
   "id": "742c8a75-adcd-4758-ab37-df1110a58cc0",
   "metadata": {},
   "outputs": [],
   "source": [
    "def avgPoints(points):\n",
    "    sum=0\n",
    "    for name in points:\n",
    "        sum+=points[name]\n",
    "    print('Средний балл равен: '+str(round(sum/len(points),2)))\n",
    "    print('Отстающие ученики:')\n",
    "    for name in points:\n",
    "        if points[name]<sum/len(points):\n",
    "            print(name)\n",
    "    pass"
   ]
  },
  {
   "cell_type": "code",
   "execution_count": 3,
   "id": "c87acf0d-a65d-482d-a5e3-345ba9b6d3e9",
   "metadata": {},
   "outputs": [
    {
     "name": "stdout",
     "output_type": "stream",
     "text": [
      "Средний балл равен: 3.18\n",
      "Отстающие ученики:\n",
      "Петров И.\n",
      "Дмитриев Н.\n",
      "Котов Д.\n",
      "Бирюкова Н.\n",
      "Данилов П.\n",
      "Лемонов Ю.\n"
     ]
    }
   ],
   "source": [
    "points = {'Иванов О.': 4,\n",
    "'Петров И.': 3,\n",
    "'Дмитриев Н.': 2,\n",
    "'Смирнова О.' : 4,\n",
    "'Керченских В.' : 5,\n",
    "'Котов Д.' : 2,\n",
    "'Бирюкова Н.' : 1,\n",
    "'Данилов П.' : 3,\n",
    "'Аранских В.' : 5,\n",
    "'Лемонов Ю.' : 2,\n",
    "'Олегова К.' : 4}\n",
    "avgPoints(points)"
   ]
  },
  {
   "cell_type": "markdown",
   "id": "c533dc2c-3026-45c0-ba6b-783ede450cc8",
   "metadata": {},
   "source": [
    "2) Посчитать количество определенных слов в файле"
   ]
  },
  {
   "cell_type": "code",
   "execution_count": null,
   "id": "12099f02-8b2c-4bed-ab19-2470b43b9434",
   "metadata": {},
   "outputs": [],
   "source": [
    "Понедельник\n",
    "\tФизика (лекц.)\n",
    "\tФизика (лаб.)\n",
    "\tАлгебра (практ.)\n",
    " \n",
    "Вторник\n",
    "\tГеометрия (лекц.)\n",
    "\tФизика (практ.)\n",
    "\tФизика (лаб.)\n",
    "\tФизкультура (практ.)\n",
    "..."
   ]
  },
  {
   "cell_type": "code",
   "execution_count": 4,
   "id": "8ecc58dc-5aad-42b0-b59c-7e0c15e6de5c",
   "metadata": {},
   "outputs": [
    {
     "name": "stdout",
     "output_type": "stream",
     "text": [
      "Лекций: 6\n",
      "Практических: 11\n",
      "Лабораторных: 2\n"
     ]
    }
   ],
   "source": [
    "timetable=open('расписание.txt', 'r', encoding=\"utf-8\")\n",
    "lec=0\n",
    "pract=0\n",
    "lab=0\n",
    "for line in timetable:\n",
    "    if line.find('лек')!=-1:\n",
    "        lec+=1\n",
    "    if line.find('лаб')!=-1:\n",
    "        lab+=1\n",
    "    if line.find('пра')!=-1:\n",
    "        pract+=1\n",
    "\n",
    "\n",
    "\n",
    "print('Лекций:', lec)\n",
    "print('Практических:', pract)\n",
    "print('Лабораторных:', lab)"
   ]
  },
  {
   "cell_type": "markdown",
   "id": "928d9a1e-b703-430e-b147-20dcd8d2ee98",
   "metadata": {},
   "source": [
    "3) Откройте Telegram, найдите @BotFather и начните беседу. Отправьте команду /newbot и следуйте инструкциям."
   ]
  },
  {
   "cell_type": "markdown",
   "id": "a30ad4f3-db2a-4388-a6db-50fb7ba205d1",
   "metadata": {},
   "source": [
    "свой токен;\n",
    "адрес Telegram API (https://api.telegram.org/bot);\n",
    "ссылку на документацию.\n",
    "Обязательно сохраните токен, так как это ключ для взаимодействия с ботом."
   ]
  },
  {
   "cell_type": "markdown",
   "id": "9085cb96-23c4-4078-a206-6b290548b67b",
   "metadata": {},
   "source": [
    "Хранение токена должно быть локальным: ни в коем случае не выгружайте его в общий доступ, например в GitHub-репозиторий ."
   ]
  },
  {
   "cell_type": "markdown",
   "id": "944ecd27-a767-4858-b9b5-510887889ec5",
   "metadata": {},
   "source": [
    "4) Выведите список файлов в указанной директории. например где у вас лежат ваши тетради\n",
    "\n"
   ]
  },
  {
   "cell_type": "code",
   "execution_count": 5,
   "id": "70cd7279-02f7-40cc-851a-624891c6a8c4",
   "metadata": {},
   "outputs": [
    {
     "name": "stdout",
     "output_type": "stream",
     "text": [
      "['.git', '.gitattributes', '.ipynb_checkpoints', 'README.md', 'ДЗ1.ipynb', 'ДЗ1.py', 'ДЗ2.ipynb', 'ДЗ3.ipynb', 'ДЗ4.ipynb', 'расписание.txt', 'стих.txt']\n"
     ]
    }
   ],
   "source": [
    "import os\n",
    "print(os.listdir(r'C:\\Users\\Арсений\\python\\MISIS_python'))"
   ]
  },
  {
   "cell_type": "markdown",
   "id": "3f7a6513-7f6c-4d22-a55b-5596c710b14a",
   "metadata": {},
   "source": [
    "5) Напишите программу, которая принимает текст и выводит два слова: наиболее часто встречающееся и самое длинное."
   ]
  },
  {
   "cell_type": "markdown",
   "id": "633d502a-8485-4c64-b948-278f3e6cf761",
   "metadata": {},
   "source": [
    "Варкалось. Хливкие шорьки\n",
    "Пырялись по наве,\n",
    "И хрюкотали зелюки,\n",
    "Как мюмзики в мове.\n",
    "\n",
    "О, бойся Бармаглота, сын!\n",
    "Он так свирлеп и дик!\n",
    "А в глу́ше ры́мит исполин —\n",
    "Злопастный Брандашмыг!\n",
    "\n",
    "Но взял он меч, и взял он щит,\n",
    "Высоких полон дум.\n",
    "В глущобу путь его лежит\n",
    "Под дерево Тумтум.\n",
    "\n",
    "Он стал под дерево и ждёт.\n",
    "И вдруг граахнул гром —\n",
    "Летит ужасный Бармаглот\n",
    "И пылкает огнём!\n",
    "\n",
    "Раз-два, раз-два! Горит трава,\n",
    "Взы-взы — стрижает меч,\n",
    "Ува! Ува! И голова\n",
    "Барабардает с плеч!\n",
    "\n",
    "О светозарный мальчик мой!\n",
    "Ты победил в бою!\n",
    "О храброславленный герой,\n",
    "Хвалу тебе пою!\n",
    "\n",
    "Варкалось. Хливкие шорьки\n",
    "Пырялись по наве.\n",
    "И хрюкотали зелюки,\n",
    "Как мюмзики в мове."
   ]
  },
  {
   "cell_type": "code",
   "execution_count": 6,
   "id": "c2910f0c-f574-4f5b-8e35-db5240f1361d",
   "metadata": {},
   "outputs": [
    {
     "name": "stdout",
     "output_type": "stream",
     "text": [
      "Наиболее часто встречающееся слово: И, оно встречается в стихотворении: 5 раз\n",
      "Cамое длинное слово: храброславленный, с количеством символов: 16\n"
     ]
    }
   ],
   "source": [
    "import collections\n",
    "import re\n",
    "\n",
    "count=collections.Counter()\n",
    "poem=open('стих.txt', 'r', encoding=\"utf-8\")\n",
    "for line in poem:\n",
    "    line=re.sub(r'[^\\w\\s]','',line)\n",
    "    for word in line.split():\n",
    "        count[word]+=1\n",
    "\n",
    "max=0\n",
    "maxlen=0\n",
    "\n",
    "for i in count:\n",
    "    if len(i)>maxlen:\n",
    "        maxleni=i\n",
    "        maxlen=len(i)\n",
    "    \n",
    "    if count[i]>max:\n",
    "        maxi=i\n",
    "        max=count[i]\n",
    "\n",
    "\n",
    "print('Наиболее часто встречающееся слово: '+maxi+\", оно встречается в стихотворении: \"+str(max)+\" раз\")\n",
    "print('Cамое длинное слово: '+maxleni+\", с количеством символов: \"+str(maxlen))"
   ]
  }
 ],
 "metadata": {
  "kernelspec": {
   "display_name": "Python 3 (ipykernel)",
   "language": "python",
   "name": "python3"
  },
  "language_info": {
   "codemirror_mode": {
    "name": "ipython",
    "version": 3
   },
   "file_extension": ".py",
   "mimetype": "text/x-python",
   "name": "python",
   "nbconvert_exporter": "python",
   "pygments_lexer": "ipython3",
   "version": "3.9.7"
  }
 },
 "nbformat": 4,
 "nbformat_minor": 5
}
