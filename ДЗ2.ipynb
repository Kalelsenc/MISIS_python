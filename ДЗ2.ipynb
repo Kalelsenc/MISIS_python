{
 "cells": [
  {
   "cell_type": "markdown",
   "id": "4a15d478-cedc-4ee7-beb5-f5f83ccd1015",
   "metadata": {
    "tags": []
   },
   "source": [
    "## ДЗ"
   ]
  },
  {
   "cell_type": "markdown",
   "id": "cdf19ba2-a17c-40ba-8fd9-7de0881f1cb0",
   "metadata": {
    "tags": []
   },
   "source": [
    "## Задача 1 Какой месяц"
   ]
  },
  {
   "cell_type": "code",
   "execution_count": 35,
   "id": "4d2d396c-23ee-43b4-b942-d8f1e1742683",
   "metadata": {},
   "outputs": [
    {
     "name": "stdin",
     "output_type": "stream",
     "text": [
      " 12\n"
     ]
    },
    {
     "name": "stdout",
     "output_type": "stream",
     "text": [
      "December\n"
     ]
    }
   ],
   "source": [
    "import calendar\n",
    "month=int(input())\n",
    "if month<13 and month>0:\n",
    "    print (calendar.month_name[month])\n",
    "else:\n",
    "    print('что-то не то')"
   ]
  },
  {
   "cell_type": "markdown",
   "id": "7eecbdbf-81ac-439c-b62f-7ad984017ad0",
   "metadata": {},
   "source": [
    "## Задача 2 Наибольший общий делитель"
   ]
  },
  {
   "cell_type": "code",
   "execution_count": 31,
   "id": "c534e3a8-5bac-4592-b1eb-843330f97a24",
   "metadata": {},
   "outputs": [
    {
     "name": "stdout",
     "output_type": "stream",
     "text": [
      "Введите первое число\n"
     ]
    },
    {
     "name": "stdin",
     "output_type": "stream",
     "text": [
      " 165\n"
     ]
    },
    {
     "name": "stdout",
     "output_type": "stream",
     "text": [
      "Введите второе число\n"
     ]
    },
    {
     "name": "stdin",
     "output_type": "stream",
     "text": [
      " 451\n"
     ]
    },
    {
     "name": "stdout",
     "output_type": "stream",
     "text": [
      "НОД равен 11\n"
     ]
    }
   ],
   "source": [
    "print('Введите первое число')\n",
    "a=int(input())\n",
    "print('Введите второе число')\n",
    "b=int(input())\n",
    "\n",
    "while a!=0:\n",
    "    if a<b:\n",
    "        a,b=b,a\n",
    "    if a%b==0:\n",
    "        break\n",
    "    else:\n",
    "        a=a-b\n",
    "\n",
    "print('НОД равен '+str(b))"
   ]
  },
  {
   "cell_type": "markdown",
   "id": "da7bfda0-226e-4915-99f2-584858fe07cf",
   "metadata": {},
   "source": [
    "## Задача 3 Проверка расширения файла"
   ]
  },
  {
   "cell_type": "code",
   "execution_count": 24,
   "id": "d0262812-cb95-44a0-98bf-26a4798eb8e8",
   "metadata": {},
   "outputs": [
    {
     "name": "stdout",
     "output_type": "stream",
     "text": [
      "Correct\n"
     ]
    }
   ],
   "source": [
    "file='Моя диссертац.jpg'\n",
    "extensions = ['png', 'jpg', 'jpeg', 'gif', 'svg']\n",
    "\n",
    "for ext in extensions:\n",
    "    if ext==file[num+1:len(file)]:\n",
    "        print('Correct')\n",
    "        break\n",
    "else:\n",
    "    print('Wrong')"
   ]
  },
  {
   "cell_type": "markdown",
   "id": "bf9722fd-9077-4486-8f5e-247fb0bf171d",
   "metadata": {},
   "source": [
    "## Задача 4 Вискосный Год"
   ]
  },
  {
   "cell_type": "markdown",
   "id": "7bb68cfd-134f-4ccf-bdfa-2fc486852b12",
   "metadata": {
    "tags": []
   },
   "source": [
    "год, номер которого кратен 400, — високосный;\n",
    "\n",
    "остальные годы, номер которых кратен 100, — невисокосные;\n",
    "\n",
    "остальные годы, номер которых кратен 4, — високосные."
   ]
  },
  {
   "cell_type": "code",
   "execution_count": 30,
   "id": "06ed13da-1665-4ba2-b892-06fd6f3365a3",
   "metadata": {},
   "outputs": [
    {
     "name": "stdin",
     "output_type": "stream",
     "text": [
      " 700\n"
     ]
    },
    {
     "name": "stdout",
     "output_type": "stream",
     "text": [
      "Не Високосный\n"
     ]
    }
   ],
   "source": [
    "year=int(input())\n",
    "if year%400==0:\n",
    "    print('Високосный')\n",
    "elif year%100==0:\n",
    "    print('Не Високосный')\n",
    "elif year%4==0:\n",
    "    print('Високосный')\n",
    "else:\n",
    "    print('Не Високосный')"
   ]
  }
 ],
 "metadata": {
  "kernelspec": {
   "display_name": "Python 3 (ipykernel)",
   "language": "python",
   "name": "python3"
  },
  "language_info": {
   "codemirror_mode": {
    "name": "ipython",
    "version": 3
   },
   "file_extension": ".py",
   "mimetype": "text/x-python",
   "name": "python",
   "nbconvert_exporter": "python",
   "pygments_lexer": "ipython3",
   "version": "3.9.7"
  }
 },
 "nbformat": 4,
 "nbformat_minor": 5
}
