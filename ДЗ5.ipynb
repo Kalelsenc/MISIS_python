{
 "cells": [
  {
   "cell_type": "markdown",
   "id": "8120d672-89e9-47af-8137-9144265324f1",
   "metadata": {},
   "source": [
    "Задача 1. Напишите программу с классом Student, в котором есть три атрибута: name, groupNumber и age. По умолчанию name = Ivan, age = 18, groupNumber = 10A. Необходимо создать пять методов: getName, getAge, getGroupNumber, setNameAge, setGroupNumber. Метод getName нужен для получения данных об имени конкретного студента, метод getAge нужен для получения данных о возрасте конкретного студента, vетод setGroupNumberнужен для получения данных о номере группы конкретного студента. Метод SetNameAge позволяет изменить данные атрибутов установленных по умолчанию, метод setGroupNumber позволяет изменить номер группы установленный по умолчанию. В программе необходимо создать пять экземпляров класса Student, установить им разные имена, возраст и номер группы.\n",
    "\n"
   ]
  },
  {
   "cell_type": "code",
   "execution_count": 1,
   "id": "b4b23a8d-8944-4796-bee7-586615270c1f",
   "metadata": {},
   "outputs": [],
   "source": [
    "class Student:\n",
    "    \n",
    "    default_name='Ivan'\n",
    "    default_groupNumber='10A'\n",
    "    default_age=18\n",
    "    \n",
    "    \n",
    "    def __init__(self, name, groupNumber, age):\n",
    "        self.name=name\n",
    "        self.groupNumber=groupNumber\n",
    "        self.age=age\n",
    "    \n",
    "    def getName(self):\n",
    "        return self.name\n",
    "    \n",
    "    def getAge(self):\n",
    "        return self.groupNumber\n",
    "    \n",
    "    def getGroupNumber(self):\n",
    "        return self.groupNumber\n",
    "    \n",
    "    def SetNameAge(self, n, a):\n",
    "        self.name=n\n",
    "        self.age=a\n",
    "    \n",
    "    def setGroupNumber(self, GN):\n",
    "        self.GroupNumber=GN"
   ]
  },
  {
   "cell_type": "code",
   "execution_count": 2,
   "id": "f27cef81-9b1d-4856-a050-1cfc04bc3a28",
   "metadata": {},
   "outputs": [],
   "source": [
    "ST1=Student('Arsenii','11A',17)\n",
    "ST2=Student('Airat','10A',17)\n",
    "ST3=Student('Robert','9B',16)\n",
    "ST4=Student('Maria','11A',18)\n",
    "ST5=Student('Ramazan','8A',15)"
   ]
  },
  {
   "cell_type": "markdown",
   "id": "254a9793-f1c5-4860-ae1a-ca9505fc2da8",
   "metadata": {},
   "source": [
    "Задача 2. Напишите программу с классом Car. Создайте конструктор класса Car. Создайте атрибуты класса Car — color (цвет), type (тип), year (год). Напишите пять методов. Первый — запуск автомобиля, при его вызове выводится сообщение «Автомобиль заведен». Второй — отключение автомобиля — выводит сообщение «Автомобиль заглушен». Третий — присвоение автомобилю года выпуска. Четвертый метод — присвоение автомобилю типа. Пятый — присвоение автомобилю цвета.\n",
    "\n"
   ]
  },
  {
   "cell_type": "code",
   "execution_count": 3,
   "id": "1f3a4cd5-ed90-43f5-9992-e3c67731de04",
   "metadata": {},
   "outputs": [],
   "source": [
    "class Car:\n",
    "    \n",
    "    def __init__(self,Color,Type,Year):\n",
    "        self.Color=Color\n",
    "        self.Type=Type\n",
    "        self.Year=Year\n",
    "    \n",
    "    def Start(self):\n",
    "        print(\"Автомобиль заведен\")\n",
    "    \n",
    "    def Kill(self):\n",
    "        print(\"Автомобиль заглушен\")\n",
    "    \n",
    "    def setYear(self, year):\n",
    "        self.year=year\n",
    "    \n",
    "    def setType(self, Type):\n",
    "        self.type=Type\n",
    "    \n",
    "    def setColor(self,color):\n",
    "        self.color=color"
   ]
  },
  {
   "cell_type": "code",
   "execution_count": 4,
   "id": "acde0796-adf4-4d36-8869-2221727b6b4c",
   "metadata": {},
   "outputs": [
    {
     "name": "stdout",
     "output_type": "stream",
     "text": [
      "Автомобиль заведен\n",
      "Автомобиль заглушен\n"
     ]
    }
   ],
   "source": [
    "BMWe34=Car('Black Saphire Metallic','Sedan',1994)\n",
    "BMWe34.Start()\n",
    "BMWe34.Kill()\n",
    "BMWe34.setYear(1992)\n",
    "BMWe34.setType('Wagon')\n",
    "BMWe34.setColor('Brodeaux Red')"
   ]
  },
  {
   "cell_type": "markdown",
   "id": "85b72b7c-a72a-421f-b5a6-7045ff36b551",
   "metadata": {},
   "source": [
    "Задача 3. Допишите функцию Nutrionm"
   ]
  },
  {
   "cell_type": "code",
   "execution_count": 5,
   "id": "83677a4d-8761-4152-8453-981031fccc7a",
   "metadata": {},
   "outputs": [],
   "source": [
    "class NutritionInfo:\n",
    "    def __init__(self, proteins, carbs, fats):\n",
    "        self.proteins = proteins\n",
    "        self.carbs = carbs\n",
    "        self.fats = fats\n",
    "    \n",
    "    def __add__(self, other):\n",
    "        return NutritionInfo(self.proteins + other.proteins, self.carbs + other.carbs, self.fats + other.fats)\n",
    "    \n",
    "    def __str__(self):\n",
    "        return f\"Nutrition p {self.proteins}, c {self.carbs}, f {self.fats}\"\n",
    "    \n",
    "    def __mul__(self, other):\n",
    "        return NutritionInfo(self.proteins * other, self.carbs * other, self.fats * other)\n",
    "    \n",
    "    def __rmul__(self, other):\n",
    "        return NutritionInfo(self.proteins * other, self.carbs * other, self.fats * other)\n",
    "        \n",
    "    def energy(self):\n",
    "        return int(self.fats * 9 + (self.carbs + self.proteins) * 4.2)"
   ]
  },
  {
   "cell_type": "code",
   "execution_count": 6,
   "id": "ba115a02-b324-4c41-ab1a-254967a3350e",
   "metadata": {},
   "outputs": [
    {
     "name": "stdout",
     "output_type": "stream",
     "text": [
      "Nutrition p 10, c 20, f 30\n",
      "Nutrition p 20, c 40, f 60\n",
      "Nutrition p 20, c 40, f 60\n"
     ]
    }
   ],
   "source": [
    "egg = NutritionInfo(10, 20, 30)\n",
    "print(str(egg))\n",
    "print(str(egg*2))\n",
    "print(str(2*egg))"
   ]
  }
 ],
 "metadata": {
  "kernelspec": {
   "display_name": "Python 3 (ipykernel)",
   "language": "python",
   "name": "python3"
  },
  "language_info": {
   "codemirror_mode": {
    "name": "ipython",
    "version": 3
   },
   "file_extension": ".py",
   "mimetype": "text/x-python",
   "name": "python",
   "nbconvert_exporter": "python",
   "pygments_lexer": "ipython3",
   "version": "3.9.7"
  }
 },
 "nbformat": 4,
 "nbformat_minor": 5
}
