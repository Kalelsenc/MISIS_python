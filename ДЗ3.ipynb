{
 "cells": [
  {
   "cell_type": "markdown",
   "id": "2acd50a1-b68b-4d61-9309-8ee6bdf4a77d",
   "metadata": {},
   "source": [
    "## ДЗ"
   ]
  },
  {
   "cell_type": "markdown",
   "id": "7ab74d20-813f-4edc-a89a-93db1999c8e7",
   "metadata": {},
   "source": [
    "1. Напишите функцию, извлекающую корень n-й степени из числа x. По умолчанию def будет извлекать квадратный корень:\n",
    "\n"
   ]
  },
  {
   "cell_type": "markdown",
   "id": "65befe52-362f-4caa-b200-c7698e61e64a",
   "metadata": {},
   "source": [
    "2. Перепишите ваш код для проверки расширения из прошлого ДЗ в функцию которая принимает список расширений и  имя файла"
   ]
  },
  {
   "cell_type": "markdown",
   "id": "4acb70a5-d4bd-4b40-b27e-466ecc5ddd85",
   "metadata": {},
   "source": [
    "3. Слейте воедино три словаря"
   ]
  },
  {
   "cell_type": "code",
   "execution_count": 1,
   "id": "bac42cf2-b951-4685-b3ad-ae135e075cad",
   "metadata": {},
   "outputs": [],
   "source": [
    "dict_a = {1:10, 2:20}\n",
    "dict_b = {3:30, 4:40}\n",
    "dict_c = {5:50, 6:60}"
   ]
  },
  {
   "cell_type": "code",
   "execution_count": 2,
   "id": "710c0220-4004-4f72-b4ae-211a4f3a6e9d",
   "metadata": {},
   "outputs": [
    {
     "name": "stdout",
     "output_type": "stream",
     "text": [
      "2.0\n",
      "4.0\n"
     ]
    }
   ],
   "source": [
    "# Задание 1\n",
    "def root(num, degree=2):\n",
    "    return num**(1/degree)\n",
    "\n",
    "print(str(root(8,3)))\n",
    "print(str(root(16)))"
   ]
  },
  {
   "cell_type": "code",
   "execution_count": 3,
   "id": "216f9a5e-0359-43fe-8287-5c3c7da67438",
   "metadata": {},
   "outputs": [
    {
     "name": "stdout",
     "output_type": "stream",
     "text": [
      "Wrong\n"
     ]
    }
   ],
   "source": [
    "# Задание 2\n",
    "def verif(extensions, file):\n",
    "    file=file[::-1]\n",
    "    for ext in extensions:\n",
    "        if ext[::-1]==file[0:file.find('.')]:\n",
    "            print('Correct')\n",
    "            break\n",
    "    else:\n",
    "        print('Wrong')\n",
    "\n",
    "file='Моя диссертац.jpgty'\n",
    "extensions = ['png', 'jpg', 'jpeg', 'gif', 'svg']\n",
    "verif(extensions, file)"
   ]
  },
  {
   "cell_type": "code",
   "execution_count": 4,
   "id": "664d17b8-070c-431c-8ff8-87504c666392",
   "metadata": {},
   "outputs": [
    {
     "name": "stdout",
     "output_type": "stream",
     "text": [
      "{1: 10, 2: 20, 3: 30, 4: 40, 5: 50, 6: 60}\n"
     ]
    }
   ],
   "source": [
    "# Задание 3\n",
    "dict_a.update(dict_b)\n",
    "dict_a.update(dict_c)\n",
    "print(dict_a)"
   ]
  },
  {
   "cell_type": "markdown",
   "id": "346f20b3-cc3b-4bac-88fc-2a545c876419",
   "metadata": {},
   "source": [
    "4. Напишите функцию которая будет складывать цифры внутри числа"
   ]
  },
  {
   "cell_type": "markdown",
   "id": "3ad0a0ef-509f-43f1-9ae8-ee49458e870a",
   "metadata": {},
   "source": [
    "5. Нужно проверить, все ли числа в последовательности уникальны.\n"
   ]
  },
  {
   "cell_type": "code",
   "execution_count": 5,
   "id": "7043f1a5-5d06-4fd8-ab3d-8ecd82a2f6af",
   "metadata": {},
   "outputs": [],
   "source": [
    "numbers=[1,4,5,6,6,7,8,8]"
   ]
  },
  {
   "cell_type": "code",
   "execution_count": 6,
   "id": "b817b283-9732-48fd-8eb4-012703ba5b9b",
   "metadata": {},
   "outputs": [
    {
     "name": "stdin",
     "output_type": "stream",
     "text": [
      "Введите число 456\n"
     ]
    },
    {
     "name": "stdout",
     "output_type": "stream",
     "text": [
      "15\n"
     ]
    }
   ],
   "source": [
    "# Задание 4\n",
    "def sumOfNum(num):\n",
    "    sum=0\n",
    "    while num!=0:\n",
    "        sum+=num%10\n",
    "        num=num//10\n",
    "    return sum\n",
    "\n",
    "print(str(sumOfNum(int(input(\"Введите число\")))))"
   ]
  },
  {
   "cell_type": "code",
   "execution_count": 7,
   "id": "aa8d5759-3913-4d8c-9acc-4a6db8ea8526",
   "metadata": {},
   "outputs": [
    {
     "name": "stdout",
     "output_type": "stream",
     "text": [
      "последовательность не уникальна\n"
     ]
    }
   ],
   "source": [
    "# Задание 5\n",
    "def check(numbers):\n",
    "    sum=0\n",
    "    for a in range(len(numbers)):\n",
    "        for b in range(len(numbers)):\n",
    "            if a!=b:\n",
    "                if numbers[a]==numbers[b]:\n",
    "                    sum+=1\n",
    "    if sum!=0:\n",
    "        print(\"последовательность не уникальна\")\n",
    "    else:\n",
    "        print(\"последовательность уникальна\")\n",
    "\n",
    "check(numbers)\n"
   ]
  },
  {
   "cell_type": "markdown",
   "id": "eaa578e5-59c8-47b7-a489-c84fdc9de59d",
   "metadata": {},
   "source": [
    "6.Создать функцию, которая просто печатает все элементы заданного ей списка:\n",
    "\n",
    "     НОМЕР J --> ЗНАЧЕНИЕ\n",
    "     НОМЕР K --> ЗНАЧЕНИЕ\n",
    "    J, K — порядковые номера в списке"
   ]
  },
  {
   "cell_type": "code",
   "execution_count": 8,
   "id": "3af3e3c5-7aff-4ebc-b308-7e9ef95a0be2",
   "metadata": {},
   "outputs": [
    {
     "name": "stdout",
     "output_type": "stream",
     "text": [
      "НОМЕР 0 --> ЗНАЧЕНИЕ я\n",
      "НОМЕР 1 --> ЗНАЧЕНИЕ не\n",
      "НОМЕР 2 --> ЗНАЧЕНИЕ в\n",
      "НОМЕР 3 --> ЗНАЧЕНИЕ отпуск\n"
     ]
    }
   ],
   "source": [
    "def print_list(my_list):\n",
    "    for i in range(len(my_list)):\n",
    "        print(\"НОМЕР \"+str(i)+\" --> ЗНАЧЕНИЕ \"+str(my_list[i]))\n",
    "    pass\n",
    "\n",
    "print_list([\"я\", \"не\", \"в\", \"отпуск\" ])\n"
   ]
  },
  {
   "cell_type": "markdown",
   "id": "c0ed3584-3898-42e4-989b-440ddf7863c8",
   "metadata": {},
   "source": [
    "Подсказка: один из способов это сделать (наиболее \"в лоб\" и в каком-то смысле наименее питонячий) это создать переменную, которая будет пробегать все номера от 0 до длины переданного списка и печатать просто строчку \"этот номер\" и элемент списка под индексом i. В таком варианте для цикла у вас будет использоваться оператор while. Не забудьте что внутри цикла вам надо будет увеличивать вашу переменную на один каждый раз\n",
    "\n"
   ]
  },
  {
   "cell_type": "code",
   "execution_count": 9,
   "id": "87884f47-0e01-446a-b1f1-6c1f0632b1c1",
   "metadata": {},
   "outputs": [
    {
     "name": "stdout",
     "output_type": "stream",
     "text": [
      "НОМЕР 0 --> ЗНАЧЕНИЕ я\n",
      "НОМЕР 1 --> ЗНАЧЕНИЕ не\n",
      "НОМЕР 2 --> ЗНАЧЕНИЕ в\n",
      "НОМЕР 3 --> ЗНАЧЕНИЕ отпуск\n",
      "НОМЕР 4 --> ЗНАЧЕНИЕ dasdad\n",
      "НОМЕР 5 --> ЗНАЧЕНИЕ qwew\n",
      "НОМЕР 6 --> ЗНАЧЕНИЕ qweee\n",
      "НОМЕР 0 --> ЗНАЧЕНИЕ я\n",
      "НОМЕР 1 --> ЗНАЧЕНИЕ не\n"
     ]
    }
   ],
   "source": [
    "#Попробуйте позапускать функцию со списками разной длины и убедитесь что всё работает.\n",
    "print_list([\"я\", \"не\", \"в\", \"отпуск\",\"dasdad\",\"qwew\",\"qweee\" ])\n",
    "\n",
    "print_list([\"я\", \"не\" ])\n"
   ]
  },
  {
   "cell_type": "markdown",
   "id": "785312f6-e963-40cd-9982-2d3a467c1511",
   "metadata": {},
   "source": [
    "Создать функцию, которая печатает каждый элемент словарика\n",
    "\n",
    "        КЛЮЧ <<J>> --> ЗНАЧЕНИЕ\n",
    "        КЛЮЧ <<K>> --> ЗНАЧЕНИЕ\n",
    "    J, K — ключи словарика"
   ]
  },
  {
   "cell_type": "code",
   "execution_count": 10,
   "id": "defecb5f-fed9-40c0-9641-6a894b2c9f37",
   "metadata": {},
   "outputs": [
    {
     "name": "stdout",
     "output_type": "stream",
     "text": [
      "КЛЮЧ <<key1>> --> ЗНАЧЕНИЕ 2\n",
      "КЛЮЧ <<key3>> --> ЗНАЧЕНИЕ False\n",
      "КЛЮЧ <<Приветствие>> --> ЗНАЧЕНИЕ Hello\n"
     ]
    }
   ],
   "source": [
    "def print_dict(my_dict):\n",
    "    for i in my_dict:\n",
    "        print(\"КЛЮЧ <<\"+str(i)+\">> --> ЗНАЧЕНИЕ \"+str(my_dict[i]))\n",
    "    pass\n",
    "\n",
    "print_dict({\"key1\": 2, \"key3\": False, \"Приветствие\": \"Hello\"})"
   ]
  },
  {
   "cell_type": "markdown",
   "id": "881c7089-717a-4831-9cc8-402ba643a93a",
   "metadata": {},
   "source": [
    "Подсказка: тут уже не получится просто создать переменную от 0 до чего-то и перебирать по ней просто увеличивая её на один, потому что в словарике ключи несортированы и непоследовательны. Это, кстати, означает заодно то что порядок вывода в функции может отличаться от того, в каком вы создавали словарик. Тут вам понадобится либо метод keys либо метод items, и может быть, такие понятия как \"распаковка\". Цикл будет сделан с помощью оператора for. Эту задачку можно решить и без цикла через list comprehension. Про работу со словариками посмотрите конец занятия L1.1\n",
    "\n"
   ]
  },
  {
   "cell_type": "markdown",
   "id": "dd9ba2b9-5281-4e49-83fb-f2ebc9d90ed2",
   "metadata": {},
   "source": [
    "Сделать функцию, которая использует две уже написанные функции следующим образом:\n",
    "\n",
    "    если ЗНАЧЕНИЕ это LIST --> вызывается print_list\n",
    "    если ЗНАЧЕНИЕ это DICT --> вызывается print_dict\n",
    "    во всех других случаях просто выводится ЗНАЧЕНИЕ"
   ]
  },
  {
   "cell_type": "code",
   "execution_count": 13,
   "id": "56fa976c-6cfd-4e50-9292-618b8fc9bcbe",
   "metadata": {},
   "outputs": [
    {
     "name": "stdout",
     "output_type": "stream",
     "text": [
      "ЗНАЧЕНИЕ 1\n",
      "НОМЕР 0 --> ЗНАЧЕНИЕ 1\n",
      "НОМЕР 1 --> ЗНАЧЕНИЕ 2\n",
      "НОМЕР 2 --> ЗНАЧЕНИЕ 3\n",
      "НОМЕР 3 --> ЗНАЧЕНИЕ 4\n",
      "ЗНАЧЕНИЕ Hello\n",
      "КЛЮЧ <<ciao>> --> ЗНАЧЕНИЕ Mondo\n",
      "КЛЮЧ <<Привет>> --> ЗНАЧЕНИЕ О дивный мир\n"
     ]
    }
   ],
   "source": [
    "def print_overlord(mydict):\n",
    "    for i in mydict:\n",
    "        if isinstance(mydict[i], list):\n",
    "            print_list(mydict[i])\n",
    "        elif isinstance(mydict[i], dict):\n",
    "            print_dict(mydict[i])\n",
    "        else:\n",
    "            print(\"ЗНАЧЕНИЕ \"+str(mydict[i]))\n",
    "    pass\n",
    "\n",
    "print_overlord(dict(key1=1,\n",
    "            key2=[1, 2, 3, 4], \n",
    "            key3='Hello', \n",
    "            key4={\"ciao\":\"Mondo\", \"Привет\": \"О дивный мир\"}))"
   ]
  },
  {
   "cell_type": "markdown",
   "id": "58b193b6-83f2-4432-bce3-c9b077f0c071",
   "metadata": {},
   "source": [
    "Подсказка: тут вам вообще не нужны ключи (но можете их тоже печатать), только значения словаря. А для определения типа значений в словарие вам пригодится оператор isinstance. Итерацию по значениям в словарике надо будет сделать через for, а для того чтобы получить значения вы можете использовать как метод items так и values.\n",
    "\n",
    "Собственно, это основной пример в каком-то смысле идей о том, что если у вас сложная задачка, то можно разбить её на несколько маленьких чтобы разделить логику общего выполнения с непосредственно тем, как реализованы отдельные кусочки того, что вы хотите сделать."
   ]
  },
  {
   "cell_type": "markdown",
   "id": "29d92e1e-f843-443a-bde8-2794b4cbbb80",
   "metadata": {},
   "source": [
    "7. Придумать две темы из IT про которые вам было бы интересно послушать"
   ]
  },
  {
   "cell_type": "markdown",
   "id": "f9cabd6b-55f3-42ed-84f6-e3fde35b0301",
   "metadata": {},
   "source": [
    "1) какой стек технологий нужно знать и как пройти собес на дата саентиста джуна\n",
    "2) хотелось бы услышать про разные библиотеки (pandas, keras и тд)"
   ]
  },
  {
   "cell_type": "markdown",
   "id": "a917beb6-9a63-47e9-8e36-3c99ffa58c7c",
   "metadata": {},
   "source": [
    "### Задачи со звездочкой"
   ]
  },
  {
   "cell_type": "markdown",
   "id": "0fcb8b93-efd0-4a21-9305-11a82272b8f6",
   "metadata": {},
   "source": [
    "1. Сделать функцию, которая на вход получает фразу и печатает все отдельные слова из этой фразы. Операция разбиения строки на составляющие называется токенизацией, это слово нам ещё пригодится в будущем.\n",
    "\n"
   ]
  },
  {
   "cell_type": "markdown",
   "id": "25b479ab-e02c-4bda-b5e4-c03b246e6cc8",
   "metadata": {},
   "source": [
    "OUTPUT:\n",
    "Word1\n",
    "Word2\n",
    ".\n",
    ".\n",
    ".\n",
    "WordN\n",
    "Number or Words: X"
   ]
  },
  {
   "cell_type": "code",
   "execution_count": 14,
   "id": "903794c4-2d7f-40f8-8cdb-aba2b672c8d3",
   "metadata": {},
   "outputs": [
    {
     "name": "stdout",
     "output_type": "stream",
     "text": [
      "Тут\n",
      "фраза\n",
      "с\n",
      "пробелами\n",
      "и\n",
      "я\n",
      "хочу\n",
      "их\n",
      "распечатать\n",
      "по\n",
      "одному\n",
      "на\n",
      "строку\n",
      "и\n",
      "ещё\n",
      "посчитать\n",
      "слова\n",
      "Number or Words: 17\n"
     ]
    }
   ],
   "source": [
    "def word_count(phrase):\n",
    "    words=phrase.split()\n",
    "    for i in words:\n",
    "        print(str(i))\n",
    "    print(\"Number or Words: \"+str(len(words)))\n",
    "    pass\n",
    "   \n",
    "word_count(\"Тут фраза с пробелами и я хочу их распечатать по одному на строку и ещё посчитать слова\")"
   ]
  },
  {
   "cell_type": "markdown",
   "id": "d1e5235d-ff62-47df-8d3b-e26616dc5b9f",
   "metadata": {},
   "source": [
    "Подсказка: это, по сути, модификация задания про список. Для токенизации строки по пробелу, используйте метод split. Тут тоже можно сделать цикл по while, но тогда надо следить за порядковым номером, а for сделает это за вас. Количество слов — это длина списка полученного токенизацией. Но можно, конечно, пока распечатываете токены считать, а потом вывести счётчик\n",
    "\n",
    "Фразу можно вводить как переменной в виде аргумента функции, а можно получать от пользователя на вход."
   ]
  },
  {
   "cell_type": "markdown",
   "id": "cb52f366-ea19-4e08-9b6e-65ec3fbf9b34",
   "metadata": {},
   "source": [
    "2. Модифицировать функцию из предыдущего задания так, чтобы она считала \"вес\" каждого слова, выводя в процентное соотношение во фразе для каждого слова. Проценты печатать с точностью до 2 знаков после запятой.\n",
    "\n",
    "Подсказка: тут придётся два раза пройтись по строке, один раз чтобы посчитать проценты по каждому слову (токену), и другой чтобы уже это всё распечатать. Для вывода двух знаков после запятой посмотрите, например, начало L1.1, там где всякие format symbols, это которые с процентом"
   ]
  },
  {
   "cell_type": "code",
   "execution_count": 15,
   "id": "9de84c0b-b500-4a75-954f-954fb8bd0b97",
   "metadata": {},
   "outputs": [
    {
     "name": "stdout",
     "output_type": "stream",
     "text": [
      "Number or Words: 17\n",
      "{'Тут': '5.88 %', 'фраза': '5.88 %', 'с': '5.88 %', 'пробелами': '5.88 %', 'и': '11.76 %', 'я': '5.88 %', 'хочу': '5.88 %', 'их': '5.88 %', 'распечатать': '5.88 %', 'по': '5.88 %', 'одному': '5.88 %', 'на': '5.88 %', 'строку': '5.88 %', 'ещё': '5.88 %', 'посчитать': '5.88 %', 'слова': '5.88 %'}\n"
     ]
    }
   ],
   "source": [
    "def word_count_ver2(phrase):\n",
    "    words=phrase.split()\n",
    "    print(\"Number or Words: \"+str(len(words)))\n",
    "    lenwords=len(words)\n",
    "    mydict={}\n",
    "    for i in words:\n",
    "        mydict.update({i:0})\n",
    "    \n",
    "    for a in mydict:\n",
    "        for b in range(len(words)):\n",
    "            if (a==words[b]):\n",
    "                mydict[a]+=1\n",
    "\n",
    "    for i in mydict:\n",
    "        mydict.update({i:str(round(mydict[i]/lenwords*100,2))+\" %\"})\n",
    "    print(mydict)\n",
    "\n",
    "   \n",
    "word_count_ver2(\"Тут фраза с пробелами и я хочу их распечатать по одному на строку и ещё посчитать слова\")"
   ]
  }
 ],
 "metadata": {
  "kernelspec": {
   "display_name": "Python 3 (ipykernel)",
   "language": "python",
   "name": "python3"
  },
  "language_info": {
   "codemirror_mode": {
    "name": "ipython",
    "version": 3
   },
   "file_extension": ".py",
   "mimetype": "text/x-python",
   "name": "python",
   "nbconvert_exporter": "python",
   "pygments_lexer": "ipython3",
   "version": "3.9.7"
  }
 },
 "nbformat": 4,
 "nbformat_minor": 5
}
