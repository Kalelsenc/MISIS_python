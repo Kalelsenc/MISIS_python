{
 "cells": [
  {
   "cell_type": "code",
   "execution_count": 1,
   "id": "bbebfd61",
   "metadata": {},
   "outputs": [
    {
     "name": "stdout",
     "output_type": "stream",
     "text": [
      "              precision    recall  f1-score   support\n",
      "\n",
      "           A       0.98      0.98      0.98        81\n",
      "           B       0.96      0.91      0.93        96\n",
      "           C       0.97      0.99      0.98       196\n",
      "\n",
      "    accuracy                           0.97       373\n",
      "   macro avg       0.97      0.96      0.96       373\n",
      "weighted avg       0.97      0.97      0.96       373\n",
      "\n"
     ]
    }
   ],
   "source": [
    "import pandas as pd\n",
    "import os\n",
    "import numpy as np\n",
    "from sklearn.model_selection import train_test_split\n",
    "from sklearn.ensemble import RandomForestClassifier\n",
    "from sklearn.metrics import accuracy_score, classification_report\n",
    "\n",
    "FILEPATH = 'DataSet_w_NA.xlsx'\n",
    "check_path = os.path.isfile(FILEPATH)\n",
    "df = None\n",
    "if check_path:\n",
    "    df = pd.read_excel(FILEPATH, sheet_name=\"Испорченные факты\")\n",
    "\n",
    "df = df.dropna()\n",
    "df = pd.pivot_table(df, values=['Продажи, руб', 'Продажи, шт','Повторение заказа','Маржинальная прибыль','Повторение товара'], index=[\"Факты.Товар ID\"],\n",
    "                     aggfunc={'Продажи, шт': [np.median, np.sum],\n",
    "                              'Продажи, руб': np.sum,\n",
    "                              'Повторение заказа': np.sum,\n",
    "                              'Маржинальная прибыль': np.sum\n",
    "                        \n",
    "                               })\n",
    "newname=df.columns.map('_'.join)\n",
    "df.columns=newname\n",
    "df=df.reset_index()\n",
    "total_sale=df['Продажи, руб_sum'].sum()\n",
    "df['Доля']=df['Продажи, руб_sum']/total_sale * 100\n",
    "df = df.sort_values(by=('Продажи, руб_sum'), ascending=False)\n",
    "df=df.assign(sum_d=df['Доля'].cumsum())\n",
    "\n",
    "df.loc[(df['sum_d'] <= 80), 'ABC'] = 'A'\n",
    "df.loc[(df['sum_d'] > 80) & (df['sum_d'] <= 95), 'ABC'] = 'B'\n",
    "df.loc[(df['sum_d'] > 95), 'ABC'] = 'C'\n",
    "\n",
    "\n",
    "df['Стоимость, руб'] = df['Продажи, руб_sum']/df['Продажи, шт_sum']\n",
    "df['Продажи в следующем периоде, шт']= (df['Продажи, шт_sum'] + df['Продажи, шт_median'])\n",
    "df['Продажи в следующем периоде']= (df['Продажи, шт_sum'] + df['Продажи, шт_median']) *df['Стоимость, руб']\n",
    "total_sale_next=df['Продажи в следующем периоде'].sum()\n",
    "df['Доля_будущая']=df['Продажи в следующем периоде']/total_sale_next * 100\n",
    "df = df.sort_values(by=('Продажи в следующем периоде'), ascending=False)\n",
    "df=df.assign(sum_d_next=df['Доля_будущая'].cumsum())\n",
    "\n",
    "df.loc[(df['sum_d_next'] <= 80), 'ABC_next'] = 'A'\n",
    "df.loc[(df['sum_d_next'] > 80) & (df['sum_d_next'] <= 95), 'ABC_next'] = 'B'\n",
    "df.loc[(df['sum_d_next'] > 95), 'ABC_next'] = 'C'\n",
    "\n",
    "df = df.sample(frac=1)\n",
    "X = df[['Стоимость, руб', 'Продажи в следующем периоде, шт']]\n",
    "y = df['ABC_next']\n",
    "\n",
    "X_train, X_test, y_train, y_test = train_test_split(X, y, test_size=0.2)\n",
    "\n",
    "model = RandomForestClassifier(n_estimators=20)\n",
    "model.fit(X_train, y_train)\n",
    "y_pred = model.predict(X_test)\n",
    "\n",
    "print(classification_report(y_test,y_pred))"
   ]
  },
  {
   "cell_type": "code",
   "execution_count": 2,
   "id": "d9271a4c",
   "metadata": {},
   "outputs": [
    {
     "name": "stdout",
     "output_type": "stream",
     "text": [
      "              precision    recall  f1-score   support\n",
      "\n",
      "           A       0.86      1.00      0.93        81\n",
      "           B       0.91      0.82      0.86        96\n",
      "           C       0.97      0.95      0.96       196\n",
      "\n",
      "    accuracy                           0.93       373\n",
      "   macro avg       0.91      0.93      0.92       373\n",
      "weighted avg       0.93      0.93      0.93       373\n",
      "\n"
     ]
    }
   ],
   "source": [
    "#метод опорных векторов\n",
    "from sklearn.svm import SVC\n",
    "svclassifier = SVC(kernel='linear')\n",
    "svclassifier.fit(X_train, y_train)\n",
    "y_pred_1 = svclassifier.predict(X_test)\n",
    "\n",
    "print(classification_report(y_test,y_pred_1))"
   ]
  },
  {
   "cell_type": "code",
   "execution_count": 3,
   "id": "99983ce1",
   "metadata": {},
   "outputs": [
    {
     "name": "stdout",
     "output_type": "stream",
     "text": [
      "              precision    recall  f1-score   support\n",
      "\n",
      "           A       0.79      0.95      0.87        81\n",
      "           B       0.76      0.64      0.69        96\n",
      "           C       0.92      0.92      0.92       196\n",
      "\n",
      "    accuracy                           0.86       373\n",
      "   macro avg       0.83      0.84      0.83       373\n",
      "weighted avg       0.85      0.86      0.85       373\n",
      "\n"
     ]
    }
   ],
   "source": [
    "#метод ближайших соседей\n",
    "from sklearn.neighbors import KNeighborsClassifier\n",
    "\n",
    "classifier = KNeighborsClassifier(n_neighbors=5)\n",
    "classifier.fit(X_train, y_train)\n",
    "y_pred_2 = classifier.predict(X_test)\n",
    "\n",
    "print(classification_report(y_test, y_pred_2))"
   ]
  }
 ],
 "metadata": {
  "kernelspec": {
   "display_name": "Python 3 (ipykernel)",
   "language": "python",
   "name": "python3"
  },
  "language_info": {
   "codemirror_mode": {
    "name": "ipython",
    "version": 3
   },
   "file_extension": ".py",
   "mimetype": "text/x-python",
   "name": "python",
   "nbconvert_exporter": "python",
   "pygments_lexer": "ipython3",
   "version": "3.9.7"
  }
 },
 "nbformat": 4,
 "nbformat_minor": 5
}
